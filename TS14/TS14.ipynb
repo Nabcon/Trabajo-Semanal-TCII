{
 "cells": [
  {
   "cell_type": "markdown",
   "id": "d8ac676c",
   "metadata": {},
   "source": [
    "#### Teoría de Circuitos II\n",
    "\n",
    "# Tarea Semanal 14\n",
    "\n",
    "#### Por Nahuel Braian Contreras"
   ]
  },
  {
   "cell_type": "markdown",
   "id": "338b2f15",
   "metadata": {},
   "source": [
    "### Actividad\n",
    "Los cáclulos del ejercicios se realizaron en OneNote"
   ]
  },
  {
   "cell_type": "code",
   "execution_count": 3,
   "id": "13bf3e50",
   "metadata": {},
   "outputs": [
    {
     "data": {
      "text/html": [
       "\n",
       "        <iframe\n",
       "            width=\"900\"\n",
       "            height=\"900\"\n",
       "            src=\"TS14.pdf\"\n",
       "            frameborder=\"0\"\n",
       "            allowfullscreen\n",
       "            \n",
       "        ></iframe>\n",
       "        "
      ],
      "text/plain": [
       "<IPython.lib.display.IFrame at 0x17b19cf7a30>"
      ]
     },
     "execution_count": 3,
     "metadata": {},
     "output_type": "execute_result"
    }
   ],
   "source": [
    "from IPython.display import IFrame\n",
    "IFrame(\"TS14.pdf\", width=900, height=900)"
   ]
  },
  {
   "cell_type": "markdown",
   "id": "45f1c32d",
   "metadata": {},
   "source": [
    "### Comprobacion\n",
    "\n",
    "Comprobaremos los resultados obtenidos analíticamente a traves de simulación circuital realizada en LTspice."
   ]
  },
  {
   "cell_type": "markdown",
   "id": "cbafa98f",
   "metadata": {},
   "source": [
    "#### Circuito\n",
    "<img src=\"Circuito.png\">"
   ]
  },
  {
   "cell_type": "markdown",
   "id": "86d0e706",
   "metadata": {},
   "source": [
    "A continuacion analizaremos los parametros Scattering del cuadripolo. Veremos si verifican lo calculado realizando un barrido en frecuencia."
   ]
  },
  {
   "cell_type": "markdown",
   "id": "ec758876",
   "metadata": {},
   "source": [
    "#### S11\n",
    "<img src=\"Circuito_S11.png\">"
   ]
  },
  {
   "cell_type": "markdown",
   "id": "d6465f12",
   "metadata": {},
   "source": [
    "Podemos ver que para DC, el paramtro S11 tiende a 0, es decir, ***Esta adaptado***. A su vez, a medida que la frecuencia aumenta, el parametro tiende a 1. Esto quiere decir que el cuadripolo se encuentra en una condicion de circuito abierto, es decir, ***se refleja toda lo potencia a la entrada***."
   ]
  },
  {
   "cell_type": "markdown",
   "id": "a021649c",
   "metadata": {},
   "source": [
    "#### S21\n",
    "<img src=\"Circuito_S21.png\">"
   ]
  },
  {
   "cell_type": "markdown",
   "id": "9d38189a",
   "metadata": {},
   "source": [
    "El parametro S21 nos habla de la transferencia de tension desde Vg/2 hacia la salida. Como lo calculamos analiticamente, S21 tenia la forma de un ***filtro pasabajo Butterworth de 3 Orden***.\n",
    "Podemos ver que para una frecuencia $\\omega = \\dfrac{1}{2\\pi}$ tenemos una atenuacion de -3dB"
   ]
  }
 ],
 "metadata": {
  "kernelspec": {
   "display_name": "Python 3 (ipykernel)",
   "language": "python",
   "name": "python3"
  },
  "language_info": {
   "codemirror_mode": {
    "name": "ipython",
    "version": 3
   },
   "file_extension": ".py",
   "mimetype": "text/x-python",
   "name": "python",
   "nbconvert_exporter": "python",
   "pygments_lexer": "ipython3",
   "version": "3.9.7"
  }
 },
 "nbformat": 4,
 "nbformat_minor": 5
}
