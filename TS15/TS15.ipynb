{
 "cells": [
  {
   "cell_type": "markdown",
   "id": "017243d2",
   "metadata": {},
   "source": [
    "#### Teoría de Circuitos II\n",
    "\n",
    "# Tarea Semanal 15\n",
    "\n",
    "#### Por Nahuel Braian Contreras"
   ]
  },
  {
   "cell_type": "markdown",
   "id": "0b2c39c4",
   "metadata": {},
   "source": [
    "### Actividad\n",
    "Los cáclulos del ejercicios se realizaron en OneNote"
   ]
  },
  {
   "cell_type": "code",
   "execution_count": 6,
   "id": "ce7b0737",
   "metadata": {},
   "outputs": [
    {
     "data": {
      "text/html": [
       "\n",
       "        <iframe\n",
       "            width=\"900\"\n",
       "            height=\"900\"\n",
       "            src=\"TS15.pdf\"\n",
       "            frameborder=\"0\"\n",
       "            allowfullscreen\n",
       "            \n",
       "        ></iframe>\n",
       "        "
      ],
      "text/plain": [
       "<IPython.lib.display.IFrame at 0x259ced7f130>"
      ]
     },
     "execution_count": 6,
     "metadata": {},
     "output_type": "execute_result"
    }
   ],
   "source": [
    "from IPython.display import IFrame\n",
    "IFrame(\"TS15.pdf\", width=900, height=900)"
   ]
  },
  {
   "cell_type": "markdown",
   "id": "26a80848",
   "metadata": {},
   "source": [
    "Debido a la complejidad analitica, varios de los calculos fueron hechos en python"
   ]
  },
  {
   "cell_type": "code",
   "execution_count": 11,
   "id": "072b09e9",
   "metadata": {},
   "outputs": [],
   "source": [
    "import numpy as np\n",
    "import scipy.signal as sig\n",
    "import sympy as sp\n",
    "\n",
    "s = sp.symbols('$ ', complex=True)\n",
    "\n",
    "alfa_max = 1\n",
    "\n",
    "# Calculo de parametros para equivalente pasabajo\n",
    "ee = 10**(alfa_max/10)-1\n",
    "\n",
    "e = np.sqrt(ee)\n",
    "\n",
    "# Calculo de las raices\n",
    "A = ee*64\n",
    "\n",
    "# expreso las raices del numerador y del denominador de S21\n",
    "num = np.roots([1, 0, 2, 0, 1.25, 0, 0.25, 0, (ee)/A])\n",
    "den = np.roots([1, 0, 2, 0, 1.25, 0, 0.25, 0, (ee+1)/A])\n",
    "\n",
    "# agrupo las raices del numerado que poseen parte real negativa\n",
    "r1_num = np.append(num[6], num[7])\n",
    "r2_num = np.append(num[0], num[1])\n",
    "rt_num = np.append(r1_num,r2_num)\n",
    "\n",
    "# agrupo las raices del numerado que poseen parte real negativa\n",
    "r1_den = np.append(den[4], den[5])\n",
    "r2_den = np.append(den[0], den[1])\n",
    "rt_den = np.append(r1_den,r2_den)\n",
    "\n",
    "p1_num = np.poly(r1_num)\n",
    "p2_num = np.poly(r2_num)\n",
    "\n",
    "p1_den = np.poly(r1_den)\n",
    "p2_den = np.poly(r2_den)\n",
    "\n",
    "# Rearmo el polonomio de S11 con los coeficientes asociado a esas raices elegidas\n",
    "num_s11 = np.poly(rt_num)\n",
    "den_s11 = np.poly(rt_den)\n",
    "\n",
    "# Corrijo el error de aproximación imponiendo el valor 0 a esos coeficientes\n",
    "num_s11[1] = 0\n",
    "num_s11[3] = 0\n",
    "\n",
    "##\n",
    "#       1  +  S11\n",
    "# Z1 = -----------\n",
    "#       1  -  S11\n",
    "##\n",
    "\n",
    "## si no usas el copy, ambas variables quedan vinculadas y se modifican al mismo tiempo\n",
    "Z1_num = den_s11.copy() + num_s11.copy()\n",
    "Z1_den = den_s11.copy() - num_s11.copy()\n",
    "\n",
    "Z1_num = (int(Z1_num[0])*s**4 + Z1_num[1]*s**3 + Z1_num[2]*s**2 + Z1_num[3]*s + Z1_num[4])\n",
    "Z1_den = (Z1_den[1]*s**3 + Z1_den[2]*s**2 + Z1_den[3]*s + Z1_den[4])\n",
    "\n",
    "Z1 = Z1_num/Z1_den"
   ]
  },
  {
   "cell_type": "code",
   "execution_count": 12,
   "id": "733e0e53",
   "metadata": {},
   "outputs": [
    {
     "data": {
      "text/latex": [
       "$\\displaystyle \\frac{2 $^{4} + 0.952811379319138 $^{3} + 2.45392476238116 $^{2} + 0.742619373106761 $ + 0.400627582377094}{0.952811379319138 $^{3} + 0.453924762178874 $^{2} + 0.742619373106761 $ + 0.15062758164983}$"
      ],
      "text/plain": [
       "(2*$**4 + 0.952811379319138*$**3 + 2.45392476238116*$**2 + 0.742619373106761*$ + 0.400627582377094)/(0.952811379319138*$**3 + 0.453924762178874*$**2 + 0.742619373106761*$ + 0.15062758164983)"
      ]
     },
     "execution_count": 12,
     "metadata": {},
     "output_type": "execute_result"
    }
   ],
   "source": [
    "Z1"
   ]
  },
  {
   "cell_type": "markdown",
   "id": "5fa7b3ca",
   "metadata": {},
   "source": [
    "### Comprobacion\n",
    "\n",
    "Comprobaremos los resultados obtenidos analíticamente a traves de simulación circuital realizada en LTspice."
   ]
  },
  {
   "cell_type": "markdown",
   "id": "a7aab4bb",
   "metadata": {},
   "source": [
    "#### Circuito\n",
    "<img src=\"Circuito_normalizado.png\">\n",
    "\n",
    "Modificando el valor de los componentes del circuito para que la frecuencia de corte sea 2 π 10⁶ rad/s y la resistencia del generador sea 50Ω, nos queda asi:\n",
    "\n",
    "<img src=\"Circuito_50.png\">\n"
   ]
  },
  {
   "cell_type": "markdown",
   "id": "5e01ec95",
   "metadata": {},
   "source": [
    "A continuacion analizaremos los parametros Scattering del cuadripolo.\n",
    "\n",
    "#### S11\n",
    "<img src=\"Circuito_S11.png\">"
   ]
  },
  {
   "cell_type": "markdown",
   "id": "350ebbb0",
   "metadata": {},
   "source": [
    "Podemos ver que partimos de un valor constante. A partir de ahi, por cada toque del filtro chebyshev con la banda superior, se produce una caida en el valor de S11. Esto se debe a que el modulo de la transferencia en esos picos es cercana a 1. Por lo que el circuito estaria \"mas adaptado\", teniendo su maxima adaptación para $\\omega = \\dfrac{1}{2\\pi}$. A medida que la frecuencia aumenta, el Valor de S11 tiende a 1. Esto era lo esperado ya que nuestro cuadripolo es un filtro pasabajo y no deja pasar la potencia a la salida. Se refleja todo en la entrada."
   ]
  },
  {
   "cell_type": "markdown",
   "id": "54ac220d",
   "metadata": {},
   "source": [
    "#### S21\n",
    "<img src=\"Circuito_S21_50.png\">"
   ]
  },
  {
   "cell_type": "markdown",
   "id": "3bce72f5",
   "metadata": {},
   "source": [
    "Como esperabamos, obtuvimos una transferencia pasabajo chebyshev de orden 4."
   ]
  },
  {
   "cell_type": "markdown",
   "id": "48a09811",
   "metadata": {},
   "source": [
    "<img src=\"Circuito_S21_50_1db.png\">"
   ]
  },
  {
   "cell_type": "markdown",
   "id": "c6f7555d",
   "metadata": {},
   "source": [
    "Aca podemos apreciar forma caracteristca de un filtro Chebyshev de orden 4. Nuestro cuadripolo estaba diseñado para tener un ripple de 1db."
   ]
  },
  {
   "cell_type": "code",
   "execution_count": null,
   "id": "ecf95b9e",
   "metadata": {},
   "outputs": [],
   "source": []
  }
 ],
 "metadata": {
  "kernelspec": {
   "display_name": "Python 3 (ipykernel)",
   "language": "python",
   "name": "python3"
  },
  "language_info": {
   "codemirror_mode": {
    "name": "ipython",
    "version": 3
   },
   "file_extension": ".py",
   "mimetype": "text/x-python",
   "name": "python",
   "nbconvert_exporter": "python",
   "pygments_lexer": "ipython3",
   "version": "3.9.7"
  }
 },
 "nbformat": 4,
 "nbformat_minor": 5
}
