{
 "cells": [
  {
   "cell_type": "markdown",
   "id": "fe9c2c3a",
   "metadata": {},
   "source": [
    "\n",
    "#### Teoría de Circuitos II\n",
    "\n",
    "# Trabajo Semanal 2\n",
    "\n",
    "#### Por Nahuel Braian Contreras"
   ]
  },
  {
   "cell_type": "markdown",
   "id": "eb28f732",
   "metadata": {},
   "source": [
    "**Circuito**\n",
    "<img src=\"circuito_ej.png\">"
   ]
  },
  {
   "cell_type": "markdown",
   "id": "869bb400",
   "metadata": {},
   "source": [
    "### La totalidad de los calculos fueron realizados en el siguiente OneNote:"
   ]
  },
  {
   "cell_type": "code",
   "execution_count": null,
   "id": "683a7849",
   "metadata": {},
   "outputs": [],
   "source": []
  }
 ],
 "metadata": {
  "kernelspec": {
   "display_name": "Python 3 (ipykernel)",
   "language": "python",
   "name": "python3"
  },
  "language_info": {
   "codemirror_mode": {
    "name": "ipython",
    "version": 3
   },
   "file_extension": ".py",
   "mimetype": "text/x-python",
   "name": "python",
   "nbconvert_exporter": "python",
   "pygments_lexer": "ipython3",
   "version": "3.9.7"
  }
 },
 "nbformat": 4,
 "nbformat_minor": 5
}
